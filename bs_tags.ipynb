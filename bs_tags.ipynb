{
 "cells": [
  {
   "cell_type": "code",
   "execution_count": 1,
   "id": "180449e4",
   "metadata": {},
   "outputs": [],
   "source": [
    "from bs4 import BeautifulSoup"
   ]
  },
  {
   "cell_type": "code",
   "execution_count": 2,
   "id": "86605c53",
   "metadata": {},
   "outputs": [],
   "source": [
    "html = '''\n",
    "<html>\n",
    "    <head>\n",
    "    </head>\n",
    "    <body>\n",
    "        <h1> 우리동네시장</h1>\n",
    "            <div class = 'sale'>\n",
    "                <p id='fruits1' class='fruits'>\n",
    "                    <span class = 'name'> 바나나 </span>\n",
    "                    <span class = 'price'> 3000원 </span>\n",
    "                    <span class = 'inventory'> 500개 </span>\n",
    "                    <span class = 'store'> 가나다상회 </span>\n",
    "                    <a href = 'http://bit.ly/forPlaywithData' > 홈페이지 </a>\n",
    "                </p>\n",
    "            </div>\n",
    "            <div class = 'prepare'>\n",
    "                <p id='fruits2' class='fruits'>\n",
    "                    <span class ='name'> 파인애플 </span>\n",
    "                </p>\n",
    "            </div>\n",
    "    </body>\n",
    "</html>\n",
    "'''\n"
   ]
  },
  {
   "cell_type": "code",
   "execution_count": 3,
   "id": "2be6479d",
   "metadata": {},
   "outputs": [],
   "source": [
    "soup = BeautifulSoup(html, 'html.parser')"
   ]
  },
  {
   "cell_type": "code",
   "execution_count": 7,
   "id": "4c24142d",
   "metadata": {},
   "outputs": [],
   "source": [
    "span = soup.select('span')"
   ]
  },
  {
   "cell_type": "code",
   "execution_count": 8,
   "id": "eab13255",
   "metadata": {},
   "outputs": [
    {
     "data": {
      "text/plain": [
       "bs4.element.ResultSet"
      ]
     },
     "execution_count": 8,
     "metadata": {},
     "output_type": "execute_result"
    }
   ],
   "source": [
    "type(span)"
   ]
  },
  {
   "cell_type": "code",
   "execution_count": 9,
   "id": "f2d4bd4e",
   "metadata": {},
   "outputs": [
    {
     "data": {
      "text/plain": [
       "<span class=\"name\"> 바나나 </span>"
      ]
     },
     "execution_count": 9,
     "metadata": {},
     "output_type": "execute_result"
    }
   ],
   "source": [
    "span[0]"
   ]
  },
  {
   "cell_type": "code",
   "execution_count": 10,
   "id": "b80ed661",
   "metadata": {},
   "outputs": [
    {
     "data": {
      "text/plain": [
       "<span class=\"name\"> 파인애플 </span>"
      ]
     },
     "execution_count": 10,
     "metadata": {},
     "output_type": "execute_result"
    }
   ],
   "source": [
    "span[-1]"
   ]
  },
  {
   "cell_type": "code",
   "execution_count": 11,
   "id": "4dddfa6e",
   "metadata": {},
   "outputs": [],
   "source": [
    "fruits = soup.select('fruits1')"
   ]
  },
  {
   "cell_type": "code",
   "execution_count": 13,
   "id": "96c5a6cf",
   "metadata": {},
   "outputs": [
    {
     "data": {
      "text/plain": [
       "(bs4.element.ResultSet, [])"
      ]
     },
     "execution_count": 13,
     "metadata": {},
     "output_type": "execute_result"
    }
   ],
   "source": [
    "type(fruits), fruits"
   ]
  },
  {
   "cell_type": "code",
   "execution_count": 15,
   "id": "f0cc0a9a",
   "metadata": {},
   "outputs": [],
   "source": [
    "fruits1 = soup.select('#fruits1')"
   ]
  },
  {
   "cell_type": "code",
   "execution_count": 16,
   "id": "8a8886a2",
   "metadata": {},
   "outputs": [
    {
     "data": {
      "text/plain": [
       "(bs4.element.ResultSet,\n",
       " [<p class=\"fruits\" id=\"fruits1\">\n",
       "  <span class=\"name\"> 바나나 </span>\n",
       "  <span class=\"price\"> 3000원 </span>\n",
       "  <span class=\"inventory\"> 500개 </span>\n",
       "  <span class=\"store\"> 가나다상회 </span>\n",
       "  <a href=\"http://bit.ly/forPlaywithData\"> 홈페이지 </a>\n",
       "  </p>])"
      ]
     },
     "execution_count": 16,
     "metadata": {},
     "output_type": "execute_result"
    }
   ],
   "source": [
    "type(fruits1), fruits1"
   ]
  },
  {
   "cell_type": "code",
   "execution_count": 17,
   "id": "4ff7e473",
   "metadata": {},
   "outputs": [
    {
     "data": {
      "text/plain": [
       "1"
      ]
     },
     "execution_count": 17,
     "metadata": {},
     "output_type": "execute_result"
    }
   ],
   "source": [
    "len(fruits)"
   ]
  },
  {
   "cell_type": "code",
   "execution_count": 18,
   "id": "35722df0",
   "metadata": {},
   "outputs": [],
   "source": [
    "inv = soup.select('.inventory')"
   ]
  },
  {
   "cell_type": "code",
   "execution_count": 19,
   "id": "2390c4a2",
   "metadata": {},
   "outputs": [
    {
     "data": {
      "text/plain": [
       "(bs4.element.ResultSet, [<span class=\"inventory\"> 500개 </span>])"
      ]
     },
     "execution_count": 19,
     "metadata": {},
     "output_type": "execute_result"
    }
   ],
   "source": [
    "type(inv), inv"
   ]
  },
  {
   "cell_type": "code",
   "execution_count": 20,
   "id": "e421455d",
   "metadata": {},
   "outputs": [
    {
     "data": {
      "text/plain": [
       "1"
      ]
     },
     "execution_count": 20,
     "metadata": {},
     "output_type": "execute_result"
    }
   ],
   "source": [
    "len(inv)"
   ]
  },
  {
   "cell_type": "code",
   "execution_count": 22,
   "id": "08aaec9a",
   "metadata": {},
   "outputs": [],
   "source": [
    "price = soup.select('span.price')"
   ]
  },
  {
   "cell_type": "code",
   "execution_count": 23,
   "id": "84b1b23a",
   "metadata": {},
   "outputs": [
    {
     "data": {
      "text/plain": [
       "(bs4.element.ResultSet, [<span class=\"price\"> 3000원 </span>])"
      ]
     },
     "execution_count": 23,
     "metadata": {},
     "output_type": "execute_result"
    }
   ],
   "source": [
    "type(price), price"
   ]
  },
  {
   "cell_type": "code",
   "execution_count": 24,
   "id": "b013507e",
   "metadata": {},
   "outputs": [
    {
     "data": {
      "text/plain": [
       "1"
      ]
     },
     "execution_count": 24,
     "metadata": {},
     "output_type": "execute_result"
    }
   ],
   "source": [
    "len(price)"
   ]
  },
  {
   "cell_type": "code",
   "execution_count": 25,
   "id": "0bd2fcf4",
   "metadata": {},
   "outputs": [],
   "source": [
    "low_name = soup.select('p#fruits1 > span.name')"
   ]
  },
  {
   "cell_type": "code",
   "execution_count": 26,
   "id": "6468a6e9",
   "metadata": {},
   "outputs": [
    {
     "data": {
      "text/plain": [
       "(bs4.element.ResultSet, [<span class=\"name\"> 바나나 </span>])"
      ]
     },
     "execution_count": 26,
     "metadata": {},
     "output_type": "execute_result"
    }
   ],
   "source": [
    "type(low_name), low_name"
   ]
  },
  {
   "cell_type": "code",
   "execution_count": 27,
   "id": "dbddea04",
   "metadata": {},
   "outputs": [
    {
     "data": {
      "text/plain": [
       "1"
      ]
     },
     "execution_count": 27,
     "metadata": {},
     "output_type": "execute_result"
    }
   ],
   "source": [
    "len(low_name)"
   ]
  },
  {
   "cell_type": "code",
   "execution_count": 28,
   "id": "6701007b",
   "metadata": {},
   "outputs": [],
   "source": [
    "name = soup.select('.name')"
   ]
  },
  {
   "cell_type": "code",
   "execution_count": 29,
   "id": "2df14926",
   "metadata": {},
   "outputs": [
    {
     "data": {
      "text/plain": [
       "(bs4.element.ResultSet,\n",
       " [<span class=\"name\"> 바나나 </span>, <span class=\"name\"> 파인애플 </span>])"
      ]
     },
     "execution_count": 29,
     "metadata": {},
     "output_type": "execute_result"
    }
   ],
   "source": [
    "type(name), name"
   ]
  },
  {
   "cell_type": "code",
   "execution_count": 30,
   "id": "567e4151",
   "metadata": {},
   "outputs": [
    {
     "data": {
      "text/plain": [
       "2"
      ]
     },
     "execution_count": 30,
     "metadata": {},
     "output_type": "execute_result"
    }
   ],
   "source": [
    "len(name)"
   ]
  },
  {
   "cell_type": "code",
   "execution_count": 31,
   "id": "0827e530",
   "metadata": {},
   "outputs": [
    {
     "name": "stdout",
     "output_type": "stream",
     "text": [
      "<span class=\"name\"> 바나나 </span>\n",
      "<span class=\"name\"> 파인애플 </span>\n"
     ]
    }
   ],
   "source": [
    "for tag in name:\n",
    "    print(tag)"
   ]
  },
  {
   "cell_type": "code",
   "execution_count": 32,
   "id": "554088a8",
   "metadata": {},
   "outputs": [
    {
     "data": {
      "text/plain": [
       "<span class=\"name\"> 바나나 </span>"
      ]
     },
     "execution_count": 32,
     "metadata": {},
     "output_type": "execute_result"
    }
   ],
   "source": [
    "name[0]"
   ]
  },
  {
   "cell_type": "code",
   "execution_count": 33,
   "id": "675ff513",
   "metadata": {},
   "outputs": [
    {
     "data": {
      "text/plain": [
       "<span class=\"name\"> 파인애플 </span>"
      ]
     },
     "execution_count": 33,
     "metadata": {},
     "output_type": "execute_result"
    }
   ],
   "source": [
    "name[1]"
   ]
  },
  {
   "cell_type": "code",
   "execution_count": 34,
   "id": "b3491b15",
   "metadata": {},
   "outputs": [],
   "source": [
    "s = name[0].text"
   ]
  },
  {
   "cell_type": "code",
   "execution_count": 36,
   "id": "4e9ceb4f",
   "metadata": {},
   "outputs": [
    {
     "data": {
      "text/plain": [
       "'바나나'"
      ]
     },
     "execution_count": 36,
     "metadata": {},
     "output_type": "execute_result"
    }
   ],
   "source": [
    "s.strip()"
   ]
  },
  {
   "cell_type": "code",
   "execution_count": 38,
   "id": "b6b360cd",
   "metadata": {},
   "outputs": [
    {
     "data": {
      "text/plain": [
       "'바나나'"
      ]
     },
     "execution_count": 38,
     "metadata": {},
     "output_type": "execute_result"
    }
   ],
   "source": [
    "name[0].text.strip()"
   ]
  },
  {
   "cell_type": "code",
   "execution_count": 41,
   "id": "6032cfe1",
   "metadata": {},
   "outputs": [
    {
     "name": "stdout",
     "output_type": "stream",
     "text": [
      "바나나\n",
      "파인애플\n"
     ]
    }
   ],
   "source": [
    "for tag in name:\n",
    "    tag = tag.text.strip()\n",
    "    print(tag)"
   ]
  },
  {
   "cell_type": "code",
   "execution_count": 43,
   "id": "2d155da8",
   "metadata": {},
   "outputs": [
    {
     "name": "stdout",
     "output_type": "stream",
     "text": [
      "바나나\n",
      "파인애플\n"
     ]
    }
   ],
   "source": [
    "for tag in name:\n",
    "    print(tag.text.strip())"
   ]
  },
  {
   "cell_type": "code",
   "execution_count": 44,
   "id": "18a89518",
   "metadata": {},
   "outputs": [
    {
     "data": {
      "text/plain": [
       "['name']"
      ]
     },
     "execution_count": 44,
     "metadata": {},
     "output_type": "execute_result"
    }
   ],
   "source": [
    "name[0]['class']"
   ]
  },
  {
   "cell_type": "code",
   "execution_count": 45,
   "id": "1edd0bae",
   "metadata": {},
   "outputs": [
    {
     "data": {
      "text/plain": [
       "list"
      ]
     },
     "execution_count": 45,
     "metadata": {},
     "output_type": "execute_result"
    }
   ],
   "source": [
    "type(name[0]['class'])"
   ]
  },
  {
   "cell_type": "code",
   "execution_count": 47,
   "id": "821d56a8",
   "metadata": {},
   "outputs": [
    {
     "data": {
      "text/plain": [
       "'name'"
      ]
     },
     "execution_count": 47,
     "metadata": {},
     "output_type": "execute_result"
    }
   ],
   "source": [
    "cls = name[0]['class']\n",
    "cls[0]"
   ]
  },
  {
   "cell_type": "code",
   "execution_count": 48,
   "id": "51c7e7f2",
   "metadata": {},
   "outputs": [
    {
     "data": {
      "text/plain": [
       "'name'"
      ]
     },
     "execution_count": 48,
     "metadata": {},
     "output_type": "execute_result"
    }
   ],
   "source": [
    "name[0]['class'][0]"
   ]
  },
  {
   "cell_type": "code",
   "execution_count": 49,
   "id": "797ea596",
   "metadata": {},
   "outputs": [
    {
     "name": "stdout",
     "output_type": "stream",
     "text": [
      "바나나 name\n",
      "파인애플 name\n"
     ]
    }
   ],
   "source": [
    "for tag in name:\n",
    "    print(tag.text.strip(), tag['class'][0])"
   ]
  },
  {
   "cell_type": "code",
   "execution_count": null,
   "id": "9d8734e9",
   "metadata": {},
   "outputs": [],
   "source": []
  }
 ],
 "metadata": {
  "kernelspec": {
   "display_name": "Python 3",
   "language": "python",
   "name": "python3"
  },
  "language_info": {
   "codemirror_mode": {
    "name": "ipython",
    "version": 3
   },
   "file_extension": ".py",
   "mimetype": "text/x-python",
   "name": "python",
   "nbconvert_exporter": "python",
   "pygments_lexer": "ipython3",
   "version": "3.6.4"
  }
 },
 "nbformat": 4,
 "nbformat_minor": 5
}
