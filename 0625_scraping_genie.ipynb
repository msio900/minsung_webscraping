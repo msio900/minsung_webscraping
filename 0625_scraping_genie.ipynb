{
 "cells": [
  {
   "cell_type": "code",
   "execution_count": 1,
   "id": "a25fbc61",
   "metadata": {},
   "outputs": [],
   "source": [
    "from selenium import webdriver"
   ]
  },
  {
   "cell_type": "code",
   "execution_count": 3,
   "id": "6790c9ec",
   "metadata": {},
   "outputs": [],
   "source": [
    "browser = webdriver.Chrome('./chromedriver.exe')"
   ]
  },
  {
   "cell_type": "code",
   "execution_count": 4,
   "id": "067e0bf0",
   "metadata": {},
   "outputs": [],
   "source": [
    "browser.get('https://www.genie.co.kr/chart/top200')"
   ]
  },
  {
   "cell_type": "code",
   "execution_count": 5,
   "id": "5bf84d30",
   "metadata": {},
   "outputs": [],
   "source": [
    "html = browser.page_source"
   ]
  },
  {
   "cell_type": "code",
   "execution_count": 6,
   "id": "82f05374",
   "metadata": {},
   "outputs": [],
   "source": [
    "from bs4 import BeautifulSoup"
   ]
  },
  {
   "cell_type": "code",
   "execution_count": 11,
   "id": "8fb33f3b",
   "metadata": {},
   "outputs": [],
   "source": [
    "soup = BeautifulSoup(html, 'html.parser')"
   ]
  },
  {
   "cell_type": "code",
   "execution_count": 13,
   "id": "d143943a",
   "metadata": {},
   "outputs": [
    {
     "data": {
      "text/plain": [
       "(1, bs4.BeautifulSoup)"
      ]
     },
     "execution_count": 13,
     "metadata": {},
     "output_type": "execute_result"
    }
   ],
   "source": [
    "len(soup), type(soup)"
   ]
  },
  {
   "cell_type": "code",
   "execution_count": 16,
   "id": "bf06601b",
   "metadata": {},
   "outputs": [],
   "source": [
    "tags = soup.select('td.info')"
   ]
  },
  {
   "cell_type": "code",
   "execution_count": 17,
   "id": "d6e578cf",
   "metadata": {},
   "outputs": [
    {
     "data": {
      "text/plain": [
       "(50, bs4.element.ResultSet)"
      ]
     },
     "execution_count": 17,
     "metadata": {},
     "output_type": "execute_result"
    }
   ],
   "source": [
    "len(tags), type(tags)"
   ]
  },
  {
   "cell_type": "code",
   "execution_count": 20,
   "id": "d02649c7",
   "metadata": {},
   "outputs": [],
   "source": [
    "tag = tags[0]"
   ]
  },
  {
   "cell_type": "markdown",
   "id": "b18c4519",
   "metadata": {},
   "source": [
    "* 곡명 : a.title\n",
    "* 가수명 : a.artist\n",
    "* 앨범명 : a.albumtitle"
   ]
  },
  {
   "cell_type": "code",
   "execution_count": 31,
   "id": "c5560f7c",
   "metadata": {},
   "outputs": [
    {
     "data": {
      "text/plain": [
       "[<a class=\"title ellipsis\" href=\"#\" onclick=\"fnPlaySong('93599531','1');return false;\" title=\"재생\">\n",
       "                                         \n",
       "                                             \n",
       "                                         \n",
       "                                         \n",
       "                                         \n",
       "                                         \n",
       "                                             \n",
       "                                                 하루만 더</a>]"
      ]
     },
     "execution_count": 31,
     "metadata": {},
     "output_type": "execute_result"
    }
   ],
   "source": [
    "title = tag.select('a.title')\n",
    "len(title), type(title)\n",
    "title"
   ]
  },
  {
   "cell_type": "code",
   "execution_count": 30,
   "id": "19c44ef5",
   "metadata": {},
   "outputs": [
    {
     "data": {
      "text/plain": [
       "<a class=\"title ellipsis\" href=\"#\" onclick=\"fnPlaySong('93599531','1');return false;\" title=\"재생\">\n",
       "                                        \n",
       "                                            \n",
       "                                        \n",
       "                                        \n",
       "                                        \n",
       "                                        \n",
       "                                            \n",
       "                                                하루만 더</a>"
      ]
     },
     "execution_count": 30,
     "metadata": {},
     "output_type": "execute_result"
    }
   ],
   "source": [
    "title[0]"
   ]
  },
  {
   "cell_type": "code",
   "execution_count": 32,
   "id": "65d3e552",
   "metadata": {},
   "outputs": [
    {
     "data": {
      "text/plain": [
       "'하루만 더'"
      ]
     },
     "execution_count": 32,
     "metadata": {},
     "output_type": "execute_result"
    }
   ],
   "source": [
    "title[0].text.strip()"
   ]
  },
  {
   "cell_type": "code",
   "execution_count": 35,
   "id": "d0a6f65f",
   "metadata": {},
   "outputs": [
    {
     "data": {
      "text/plain": [
       "(1, bs4.element.ResultSet)"
      ]
     },
     "execution_count": 35,
     "metadata": {},
     "output_type": "execute_result"
    }
   ],
   "source": [
    "artist = tag.select('a.artist')\n",
    "len(artist), type(artist)"
   ]
  },
  {
   "cell_type": "code",
   "execution_count": 36,
   "id": "c41dc744",
   "metadata": {},
   "outputs": [
    {
     "data": {
      "text/plain": [
       "<a class=\"artist ellipsis\" href=\"#\" onclick=\"fnViewArtist('14957679');return false;\">빅마마 (Big Mama)</a>"
      ]
     },
     "execution_count": 36,
     "metadata": {},
     "output_type": "execute_result"
    }
   ],
   "source": [
    "artist[0]"
   ]
  },
  {
   "cell_type": "code",
   "execution_count": 37,
   "id": "db5f97ed",
   "metadata": {},
   "outputs": [
    {
     "data": {
      "text/plain": [
       "'빅마마 (Big Mama)'"
      ]
     },
     "execution_count": 37,
     "metadata": {},
     "output_type": "execute_result"
    }
   ],
   "source": [
    "artist[0].text.strip()"
   ]
  },
  {
   "cell_type": "code",
   "execution_count": null,
   "id": "298a9059",
   "metadata": {},
   "outputs": [],
   "source": [
    "[\n",
    "    [ , ],\n",
    "    [ , ],\n",
    "    [ , ]\n",
    "]"
   ]
  },
  {
   "cell_type": "code",
   "execution_count": 46,
   "id": "edadc2a9",
   "metadata": {},
   "outputs": [],
   "source": [
    "import pandas as pd"
   ]
  },
  {
   "cell_type": "code",
   "execution_count": 47,
   "id": "cfcaa975",
   "metadata": {},
   "outputs": [],
   "source": [
    "contents = []\n",
    "for tag in tags:\n",
    "    title = tag.select('a.title')\n",
    "    artist = tag.select('a.artist')\n",
    "    contents.append([title[0].text.strip(), artist[0].text.strip()])"
   ]
  },
  {
   "cell_type": "code",
   "execution_count": 48,
   "id": "128f2112",
   "metadata": {},
   "outputs": [
    {
     "data": {
      "text/plain": [
       "[['하루만 더', '빅마마 (Big Mama)'],\n",
       " ['치맛바람 (Chi Mat Ba Ram)', '브레이브걸스 (Brave girls)'],\n",
       " ['Butter', '방탄소년단'],\n",
       " ['Next Level', 'aespa'],\n",
       " ['Alcohol-Free', 'TWICE (트와이스)'],\n",
       " ['비와 당신', '이무진'],\n",
       " ['헤픈 우연', '헤이즈 (Heize)'],\n",
       " ['Dun Dun Dance', '오마이걸 (OH MY GIRL)'],\n",
       " ['추적이는 여름 비가 되어', '장범준'],\n",
       " [\"롤린 (Rollin')\", '브레이브걸스 (Brave girls)'],\n",
       " ['안녕 (Hello)', '조이 (JOY)'],\n",
       " ['Peaches (Feat. Daniel Caesar & Giveon)', 'Justin Bieber'],\n",
       " ['라일락', '아이유 (IU)'],\n",
       " ['Dynamite', '방탄소년단'],\n",
       " ['운전만해 (We Ride)', '브레이브걸스 (Brave girls)'],\n",
       " ['Ready to love', '세븐틴 (SEVENTEEN)'],\n",
       " ['ASAP', 'STAYC (스테이씨)'],\n",
       " ['신호등', '이무진'],\n",
       " ['상상더하기', 'MSG워너비 TOP 8 (별루지 & 김정수 & 강창모 & 정기석 & 이동휘 & 이상이 & 박재정 & 원슈타인)'],\n",
       " ['Celebrity', '아이유 (IU)'],\n",
       " ['상상더하기', '라붐 (LABOUM)'],\n",
       " ['이제 나만 믿어요', '임영웅'],\n",
       " ['Timeless', 'SG워너비'],\n",
       " ['Savage Love (Laxed - Siren Beat) (BTS Remix)',\n",
       "  'Jawsh 685 & Jason Derulo & 방탄소년단'],\n",
       " ['다정히 내 이름을 부르면', '경서예지 & 전건호'],\n",
       " ['별빛 같은 나의 사랑아', '임영웅'],\n",
       " ['HERO', '임영웅'],\n",
       " ['어떤 말도 할 수가 없는 나인데', '케이시 (Kassy)'],\n",
       " ['작은 것들을 위한 시 (Boy With Luv) (Feat. Halsey)', '방탄소년단'],\n",
       " ['허리춤', '오반 (OVAN)'],\n",
       " ['다시 사랑한다면 (김필 Ver.)', '임영웅'],\n",
       " ['내 손을 잡아', '아이유 (IU)'],\n",
       " ['사이렌 Remix (Feat. UNEDUCATED KID & Paul Blanco)', '호미들'],\n",
       " ['At My Worst', 'Pink Sweat$'],\n",
       " ['봄날', '방탄소년단'],\n",
       " ['잊어야 한다는 마음으로', '임영웅'],\n",
       " ['계단말고 엘리베이터', '임영웅'],\n",
       " ['Anyone', '세븐틴 (SEVENTEEN)'],\n",
       " ['미워요', '임영웅'],\n",
       " ['Life Goes On', '방탄소년단'],\n",
       " ['LOVE DAY (2021) (바른연애 길잡이 X 양요섭, 정은지)', '양요섭 & 정은지'],\n",
       " [\"Heaven's Cloud\", '세븐틴 (SEVENTEEN)'],\n",
       " ['Coin', '아이유 (IU)'],\n",
       " ['흔들리는 꽃들 속에서 네 샴푸향이 느껴진거야', '장범준'],\n",
       " ['소나기', '임영웅'],\n",
       " ['마.피.아. In the morning', 'ITZY (있지)'],\n",
       " ['2002', 'Anne-Marie'],\n",
       " ['Off My Face', 'Justin Bieber'],\n",
       " ['내 입술 따뜻한 커피처럼', '청하 & Colde (콜드)'],\n",
       " ['아주 NICE', '세븐틴 (SEVENTEEN)']]"
      ]
     },
     "execution_count": 48,
     "metadata": {},
     "output_type": "execute_result"
    }
   ],
   "source": [
    "contents"
   ]
  },
  {
   "cell_type": "code",
   "execution_count": 54,
   "id": "5b3bd06a",
   "metadata": {},
   "outputs": [],
   "source": [
    "pd_data = pd.DataFrame(contents, columns=['Title','Artist'])"
   ]
  },
  {
   "cell_type": "code",
   "execution_count": null,
   "id": "f81a0e6b",
   "metadata": {},
   "outputs": [],
   "source": []
  },
  {
   "cell_type": "code",
   "execution_count": 55,
   "id": "8ab06c35",
   "metadata": {},
   "outputs": [],
   "source": [
    "pd_data.to_excel('./saves/genie_scraping.xls', index=False)"
   ]
  },
  {
   "cell_type": "code",
   "execution_count": null,
   "id": "c8062646",
   "metadata": {},
   "outputs": [],
   "source": []
  }
 ],
 "metadata": {
  "kernelspec": {
   "display_name": "Python 3",
   "language": "python",
   "name": "python3"
  },
  "language_info": {
   "codemirror_mode": {
    "name": "ipython",
    "version": 3
   },
   "file_extension": ".py",
   "mimetype": "text/x-python",
   "name": "python",
   "nbconvert_exporter": "python",
   "pygments_lexer": "ipython3",
   "version": "3.6.4"
  }
 },
 "nbformat": 4,
 "nbformat_minor": 5
}
